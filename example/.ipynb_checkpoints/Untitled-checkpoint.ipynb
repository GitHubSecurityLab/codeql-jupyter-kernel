{
 "cells": [
  {
   "cell_type": "code",
   "execution_count": null,
   "id": "8caa7a04-68a0-4471-96ab-0fa0c5057b33",
   "metadata": {
    "tags": []
   },
   "outputs": [],
   "source": [
    "%set_database FOOOO"
   ]
  }
 ],
 "metadata": {
  "kernelspec": {
   "display_name": "CodeQL",
   "language": "codeql",
   "name": "codeql"
  },
  "language_info": {
   "file_extension": ".ql",
   "help_links": [
    {
     "text": "MetaKernel Magics",
     "url": "https://metakernel.readthedocs.io/en/latest/source/README.html"
    }
   ],
   "mimetype": "text/x-codeql",
   "name": "codeql"
  }
 },
 "nbformat": 4,
 "nbformat_minor": 5
}
